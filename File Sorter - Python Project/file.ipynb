{
 "cells": [
  {
   "cell_type": "code",
   "execution_count": 43,
   "id": "fad6b7a9",
   "metadata": {},
   "outputs": [],
   "source": [
    "import os, shutil "
   ]
  },
  {
   "cell_type": "code",
   "execution_count": 44,
   "id": "91a04736",
   "metadata": {},
   "outputs": [],
   "source": [
    "path = \"D:/User Do Not Del/Desktop/Takshat/Projects/File Sorter/\""
   ]
  },
  {
   "cell_type": "code",
   "execution_count": 49,
   "id": "5c857ee6",
   "metadata": {},
   "outputs": [],
   "source": [
    "file_name = os.listdir(path)"
   ]
  },
  {
   "cell_type": "code",
   "execution_count": 50,
   "id": "32e8e517",
   "metadata": {},
   "outputs": [],
   "source": [
    "folder_name = ['csv files' , 'large files', 'image files']\n",
    "\n",
    "for i in range(0,3):\n",
    "    if not os.path.exists(path + folder_name[i]):\n",
    "        print(path + folder_name[i])\n",
    "        os.makedirs(path + folder_name[i])"
   ]
  },
  {
   "cell_type": "code",
   "execution_count": 56,
   "id": "bcfda723",
   "metadata": {},
   "outputs": [
    {
     "name": "stdout",
     "output_type": "stream",
     "text": [
      "There are files in this path that were not moved\n",
      "There are files in this path that were not moved\n",
      "There are files in this path that were not moved\n",
      "There are files in this path that were not moved\n"
     ]
    }
   ],
   "source": [
    "for file in file_name:\n",
    "    if \".xlsx\" in file and not os.path.exists(path + \"csv files/\" + file):\n",
    "        shutil.move(path + file, path + \"csv files/\" +file)\n",
    "    elif \".png\" in file and not os.path.exists(path + \"large files/\" + file):\n",
    "        shutil.move(path + file, path + \"large files/\" +file)\n",
    "    elif \".jpg\" in file and not os.path.exists(path + \"image files/\" + file):\n",
    "        shutil.move(path + file, path + \"image files/\" +file)\n",
    "    else:\n",
    "        print(\"There are files in this path that were not moved\")\n",
    "    \n"
   ]
  }
 ],
 "metadata": {
  "kernelspec": {
   "display_name": "Python 3",
   "language": "python",
   "name": "python3"
  },
  "language_info": {
   "codemirror_mode": {
    "name": "ipython",
    "version": 3
   },
   "file_extension": ".py",
   "mimetype": "text/x-python",
   "name": "python",
   "nbconvert_exporter": "python",
   "pygments_lexer": "ipython3",
   "version": "3.12.7"
  }
 },
 "nbformat": 4,
 "nbformat_minor": 5
}
